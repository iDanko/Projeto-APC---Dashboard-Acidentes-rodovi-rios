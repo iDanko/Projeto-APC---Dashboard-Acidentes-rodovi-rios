{
 "cells": [
  {
   "cell_type": "code",
   "execution_count": 455,
   "metadata": {},
   "outputs": [],
   "source": [
    "import pandas as pd \n",
    "import plotly.graph_objects as go\n",
    "import plotly.express as px \n",
    "import json\n",
    "import csv\n",
    "from dash import dash, dcc, html, Input, Output\n",
    "import dash_bootstrap_components as dbc"
   ]
  },
  {
   "cell_type": "code",
   "execution_count": 456,
   "metadata": {},
   "outputs": [],
   "source": [
    "df=pd.read_csv('datatran.2020.csv', sep=';') #leitura do dataframe em csv.\n",
    "data_list = df.values.tolist()"
   ]
  },
  {
   "cell_type": "code",
   "execution_count": 457,
   "metadata": {},
   "outputs": [],
   "source": [
    "def separar_coluna(lista, num_coluna):                                                      #Argumentos sao a tabela em formato de lista\n",
    "                                                                                               # e o numero da coluna que voce quer retirar da tabela\n",
    "    conteudo_coluna = []                                                                       # Inserindo coluna vazia para receber os valores da coluna desejada\n",
    "\n",
    "    for i in lista:                                                                         # o i percorre a lista e quando ele chegar no indice desejado \n",
    "        conteudo_coluna.append(i[num_coluna])                                                  # ele adiciona na coluna vazia\n",
    "    \n",
    "    return conteudo_coluna"
   ]
  },
  {
   "cell_type": "code",
   "execution_count": 458,
   "metadata": {},
   "outputs": [],
   "source": [
    "def excluir_duplicado(coluna_valor_duplicado):                                                # Funcao para excluir valor duplicado\n",
    "                                                                                              # Os argumentos sao: \n",
    "  lista_valor_unico = []                                                                      #a coluna que possui os valores duplicados\n",
    "\n",
    "  for i in range (len(coluna_valor_duplicado)):                                               #laco possui o tamanho da coluna que vai ser unificada para verficar todos os valores\n",
    "                                                                                              # A condicao estabelecida verfica se todos os valores da coluna duplicada\n",
    "      if coluna_valor_duplicado[i] not in lista_valor_unico:                                  # estao na coluna criada, caso nao esteja, ele adiciona nessa coluna onde nao possui                                                                                              # ele adiciona esse valor\n",
    "         lista_valor_unico.append(coluna_valor_duplicado[i])                                  #valores repetidos\n",
    "  \n",
    "  return lista_valor_unico"
   ]
  },
  {
   "cell_type": "code",
   "execution_count": 459,
   "metadata": {},
   "outputs": [],
   "source": [
    "def acidente_dia_objeto_estudo(lista, dia_semana, objeto_estudo, num_coluna_dia_semana,num_coluna_objeto_estudo):\n",
    "    objeto = []\n",
    "    dia_sem = 0\n",
    "\n",
    "    for linha in lista:\n",
    "\n",
    "        if linha[num_coluna_dia_semana] == dia_semana and linha[num_coluna_objeto_estudo] == objeto_estudo:\n",
    "            dia_sem += 1\n",
    "    \n",
    "    objeto.append(dia_semana)\n",
    "    objeto.append(dia_sem)\n",
    "    objeto.append(objeto_estudo)\n",
    "    \n",
    "    return objeto"
   ]
  },
  {
   "cell_type": "code",
   "execution_count": 460,
   "metadata": {},
   "outputs": [],
   "source": [
    "def lista_completa (objeto_single,lista, dia_semana,num_coluna_dia_semana,num_coluna_objeto_estudo):\n",
    "   \n",
    "    lista_comp = []\n",
    "\n",
    "    for i in objeto_single:\n",
    "        \n",
    "        lista_comp.append(acidente_dia_objeto_estudo(lista,dia_semana,i,num_coluna_dia_semana,num_coluna_objeto_estudo))\n",
    "    \n",
    "    return lista_comp"
   ]
  },
  {
   "cell_type": "code",
   "execution_count": 461,
   "metadata": {},
   "outputs": [],
   "source": [
    "def calculo_mortes(data_list, uf): \n",
    "    mortos_estado = [] \n",
    "    for linha in data_list:\n",
    "        if linha[4] == uf:  \n",
    "            mortos_estado.append(linha[18]) \n",
    "\n",
    "\n",
    "    return sum(mortos_estado) \n",
    "\n",
    "\n"
   ]
  },
  {
   "cell_type": "code",
   "execution_count": 462,
   "metadata": {},
   "outputs": [],
   "source": [
    "def calculo_feridos(data_list, uf): \n",
    "    feridos_estado = [] \n",
    "    for linha in data_list:\n",
    "        if linha[4] == uf:    \n",
    "            feridos_estado.append(linha[23])\n",
    "\n",
    "\n",
    "    return sum(feridos_estado) \n",
    "\n"
   ]
  },
  {
   "cell_type": "code",
   "execution_count": 463,
   "metadata": {},
   "outputs": [],
   "source": [
    "def estado(data_list, num_coluna):\n",
    "    lista2 = []\n",
    "    lista_estados =[]\n",
    "    for i in data_list:\n",
    "        lista2.append(i[num_coluna])\n",
    "    for i in lista2:\n",
    "        if i not in lista_estados:\n",
    "            lista_estados.append(i)\n",
    "    lista_estados.sort()\n",
    "\n",
    "    return lista_estados"
   ]
  },
  {
   "cell_type": "code",
   "execution_count": 464,
   "metadata": {},
   "outputs": [],
   "source": [
    "def filtro_periodo(p):\n",
    "    lista = []\n",
    "    for i in nnova_df:\n",
    "        if p == i[2]:\n",
    "            lista.append(i)\n",
    "        \n",
    "    return lista"
   ]
  },
  {
   "cell_type": "markdown",
   "metadata": {},
   "source": [
    "# GRAFICO DE ROSCA"
   ]
  },
  {
   "cell_type": "markdown",
   "metadata": {},
   "source": [
    "# - Filtrando as tabelas para o Grafico de Rosca"
   ]
  },
  {
   "cell_type": "code",
   "execution_count": 465,
   "metadata": {},
   "outputs": [],
   "source": [
    "meses=pd.read_csv('meses-.csv') #leitura da planilha de meses \n",
    "meses_list=meses.values.tolist() #tranformar a base de meses em uma lista\n",
    "\n",
    "#separar a coluna 'data' da meses_list para comparar com as datas da base de dados (coluna [1] = \"data-inversa\")\n",
    "\n",
    "compara_mes = separar_coluna(meses_list, 1)\n",
    "\n",
    "#separar a coluna de datas (dia/mes/ano).\n",
    "\n",
    "data_2020 = separar_coluna(data_list, 1)\n",
    "\n",
    "\n",
    "# separar a coluna de feridos graves\n",
    "feridos = separar_coluna(data_list, 20)\n",
    "\n",
    "#substituindo as datas (mes/dia/ano) pelos seus respectivos meses\n",
    "\n",
    "meses_2020 = [] #lista vazia que ira receber o elementos do laço.\n",
    "\n",
    "for c in range(0,len(compara_mes)): #percorrer a lista de meses\n",
    "    \n",
    "    for d in range(0,len(data_2020)): #percorrer a lista de datas (mes/dia/ano)\n",
    "        \n",
    "        if compara_mes[c][0]==data_2020[d][5] and compara_mes[c][1]==data_2020[d][6]: #comparar os algarismos de cada string presente na lista, linha [c] e caractere [0]. ex: compara_mes[c] para c=0 == compara_mes[0] = '1/'; compara_mes[0][0]=\"1\" e compara_[0][1]='/'. o mesmo ocorre com a lista data_2020 (datas da base de dados) que se inicia com o mês. Fazendo então a comparação do primeiro e do segundo caracterie de cada lista, caso o mes tenha um algarismo (janeiro = 1, fevereiro = 2), o segundo algarismo comparado será a barra (1 = 1 ; / = /; 1/ = janeiro), caso o mes tenham 2 algarismos (dezembro=12; novermbro=11), a segunda comparação sera a comparação do segundo algarismo do mes (1 = 1; 2 = 2; 12/ = Dezembro).\n",
    "            \n",
    "            meses_2020.append(meses_list[c][0]) #adicionar o mes correspondente à data na lista, de acordo com a comparação feita no laço if\n",
    "\n",
    "meses_2020 #lista de meses correspondentes a cada data\n",
    "# separar a coluna de data_list\n",
    "\n",
    "tipos=[] #criar uma lista vazia para receber a coluna de tipos de acidentes \n",
    "\n",
    "for linha in data_list: #percorrer toda a base de dados\n",
    "   \n",
    "    tipos.append(linha[9]) #acrescentar à lista somente a coluna [9] == tipo de acidentes\n",
    "\n",
    "inteiros_feridos=list(map(int, feridos))\n",
    "\n",
    "total = sum(inteiros_feridos)\n",
    "#CONTRUÇÃO DO GRÁFICO\n",
    "#grafico de rosca\n",
    "# TEMA: quantidade de feridos graves de cada tipo de acidente em função do mês\n",
    "#lista 'meses_20202' com os meses do ano \n",
    "#lista 'tipos' com os tipos de acidentes\n",
    "#lista 'feridos'  com a quantidade de feridos graves por acidente\n",
    "                            "
   ]
  },
  {
   "cell_type": "markdown",
   "metadata": {},
   "source": [
    "# - Construindo o Grafico de Rosca"
   ]
  },
  {
   "cell_type": "code",
   "execution_count": 466,
   "metadata": {},
   "outputs": [
    {
     "name": "stderr",
     "output_type": "stream",
     "text": [
      "C:\\Users\\danie\\AppData\\Local\\Programs\\Python\\Python38\\lib\\site-packages\\plotly\\express\\_core.py:1637: FutureWarning:\n",
      "\n",
      "The frame.append method is deprecated and will be removed from pandas in a future version. Use pandas.concat instead.\n",
      "\n",
      "C:\\Users\\danie\\AppData\\Local\\Programs\\Python\\Python38\\lib\\site-packages\\plotly\\express\\_core.py:1637: FutureWarning:\n",
      "\n",
      "The frame.append method is deprecated and will be removed from pandas in a future version. Use pandas.concat instead.\n",
      "\n",
      "C:\\Users\\danie\\AppData\\Local\\Programs\\Python\\Python38\\lib\\site-packages\\plotly\\express\\_core.py:1637: FutureWarning:\n",
      "\n",
      "The frame.append method is deprecated and will be removed from pandas in a future version. Use pandas.concat instead.\n",
      "\n"
     ]
    },
    {
     "data": {
      "application/vnd.plotly.v1+json": {
       "config": {
        "plotlyServerURL": "https://plot.ly"
       },
       "data": [
        {
         "branchvalues": "total",
         "domain": {
          "x": [
           0,
           1
          ],
          "y": [
           0,
           1
          ]
         },
         "hovertemplate": "<b>%{label}</b> <br> Feridos: %{value}<br>",
         "ids": [
          "Total/abril/Atropelamento de Animal",
          "Total/agosto/Atropelamento de Animal",
          "Total/dezembro/Atropelamento de Animal",
          "Total/fevereiro/Atropelamento de Animal",
          "Total/janeiro/Atropelamento de Animal",
          "Total/julho/Atropelamento de Animal",
          "Total/junho/Atropelamento de Animal",
          "Total/maio/Atropelamento de Animal",
          "Total/março/Atropelamento de Animal",
          "Total/novembro/Atropelamento de Animal",
          "Total/outubro/Atropelamento de Animal",
          "Total/setembro/Atropelamento de Animal",
          "Total/abril/Atropelamento de Pedestre",
          "Total/agosto/Atropelamento de Pedestre",
          "Total/dezembro/Atropelamento de Pedestre",
          "Total/fevereiro/Atropelamento de Pedestre",
          "Total/janeiro/Atropelamento de Pedestre",
          "Total/julho/Atropelamento de Pedestre",
          "Total/junho/Atropelamento de Pedestre",
          "Total/maio/Atropelamento de Pedestre",
          "Total/março/Atropelamento de Pedestre",
          "Total/novembro/Atropelamento de Pedestre",
          "Total/outubro/Atropelamento de Pedestre",
          "Total/setembro/Atropelamento de Pedestre",
          "Total/abril/Capotamento",
          "Total/agosto/Capotamento",
          "Total/dezembro/Capotamento",
          "Total/fevereiro/Capotamento",
          "Total/janeiro/Capotamento",
          "Total/julho/Capotamento",
          "Total/junho/Capotamento",
          "Total/maio/Capotamento",
          "Total/março/Capotamento",
          "Total/novembro/Capotamento",
          "Total/outubro/Capotamento",
          "Total/setembro/Capotamento",
          "Total/dezembro/Colisão com objeto",
          "Total/abril/Colisão com objeto em movimento",
          "Total/agosto/Colisão com objeto em movimento",
          "Total/dezembro/Colisão com objeto em movimento",
          "Total/fevereiro/Colisão com objeto em movimento",
          "Total/janeiro/Colisão com objeto em movimento",
          "Total/julho/Colisão com objeto em movimento",
          "Total/junho/Colisão com objeto em movimento",
          "Total/maio/Colisão com objeto em movimento",
          "Total/março/Colisão com objeto em movimento",
          "Total/novembro/Colisão com objeto em movimento",
          "Total/outubro/Colisão com objeto em movimento",
          "Total/setembro/Colisão com objeto em movimento",
          "Total/abril/Colisão com objeto estático",
          "Total/agosto/Colisão com objeto estático",
          "Total/dezembro/Colisão com objeto estático",
          "Total/fevereiro/Colisão com objeto estático",
          "Total/janeiro/Colisão com objeto estático",
          "Total/julho/Colisão com objeto estático",
          "Total/junho/Colisão com objeto estático",
          "Total/maio/Colisão com objeto estático",
          "Total/março/Colisão com objeto estático",
          "Total/novembro/Colisão com objeto estático",
          "Total/outubro/Colisão com objeto estático",
          "Total/setembro/Colisão com objeto estático",
          "Total/abril/Colisão frontal",
          "Total/agosto/Colisão frontal",
          "Total/dezembro/Colisão frontal",
          "Total/fevereiro/Colisão frontal",
          "Total/janeiro/Colisão frontal",
          "Total/julho/Colisão frontal",
          "Total/junho/Colisão frontal",
          "Total/maio/Colisão frontal",
          "Total/março/Colisão frontal",
          "Total/novembro/Colisão frontal",
          "Total/outubro/Colisão frontal",
          "Total/setembro/Colisão frontal",
          "Total/abril/Colisão lateral",
          "Total/agosto/Colisão lateral",
          "Total/dezembro/Colisão lateral",
          "Total/fevereiro/Colisão lateral",
          "Total/janeiro/Colisão lateral",
          "Total/julho/Colisão lateral",
          "Total/junho/Colisão lateral",
          "Total/maio/Colisão lateral",
          "Total/março/Colisão lateral",
          "Total/novembro/Colisão lateral",
          "Total/outubro/Colisão lateral",
          "Total/setembro/Colisão lateral",
          "Total/dezembro/Colisão lateral mesmo sentido",
          "Total/dezembro/Colisão lateral sentido oposto",
          "Total/abril/Colisão transversal",
          "Total/agosto/Colisão transversal",
          "Total/dezembro/Colisão transversal",
          "Total/fevereiro/Colisão transversal",
          "Total/janeiro/Colisão transversal",
          "Total/julho/Colisão transversal",
          "Total/junho/Colisão transversal",
          "Total/maio/Colisão transversal",
          "Total/março/Colisão transversal",
          "Total/novembro/Colisão transversal",
          "Total/outubro/Colisão transversal",
          "Total/setembro/Colisão transversal",
          "Total/abril/Colisão traseira",
          "Total/agosto/Colisão traseira",
          "Total/dezembro/Colisão traseira",
          "Total/fevereiro/Colisão traseira",
          "Total/janeiro/Colisão traseira",
          "Total/julho/Colisão traseira",
          "Total/junho/Colisão traseira",
          "Total/maio/Colisão traseira",
          "Total/março/Colisão traseira",
          "Total/novembro/Colisão traseira",
          "Total/outubro/Colisão traseira",
          "Total/setembro/Colisão traseira",
          "Total/abril/Danos eventuais",
          "Total/agosto/Danos eventuais",
          "Total/dezembro/Danos eventuais",
          "Total/fevereiro/Danos eventuais",
          "Total/janeiro/Danos eventuais",
          "Total/julho/Danos eventuais",
          "Total/junho/Danos eventuais",
          "Total/maio/Danos eventuais",
          "Total/março/Danos eventuais",
          "Total/novembro/Danos eventuais",
          "Total/outubro/Danos eventuais",
          "Total/setembro/Danos eventuais",
          "Total/abril/Derramamento de carga",
          "Total/agosto/Derramamento de carga",
          "Total/dezembro/Derramamento de carga",
          "Total/fevereiro/Derramamento de carga",
          "Total/janeiro/Derramamento de carga",
          "Total/julho/Derramamento de carga",
          "Total/junho/Derramamento de carga",
          "Total/maio/Derramamento de carga",
          "Total/março/Derramamento de carga",
          "Total/novembro/Derramamento de carga",
          "Total/outubro/Derramamento de carga",
          "Total/setembro/Derramamento de carga",
          "Total/abril/Engavetamento",
          "Total/agosto/Engavetamento",
          "Total/dezembro/Engavetamento",
          "Total/fevereiro/Engavetamento",
          "Total/janeiro/Engavetamento",
          "Total/julho/Engavetamento",
          "Total/junho/Engavetamento",
          "Total/maio/Engavetamento",
          "Total/março/Engavetamento",
          "Total/novembro/Engavetamento",
          "Total/outubro/Engavetamento",
          "Total/setembro/Engavetamento",
          "Total/dezembro/Eventos atípicos",
          "Total/abril/Incêndio",
          "Total/agosto/Incêndio",
          "Total/dezembro/Incêndio",
          "Total/fevereiro/Incêndio",
          "Total/janeiro/Incêndio",
          "Total/julho/Incêndio",
          "Total/junho/Incêndio",
          "Total/maio/Incêndio",
          "Total/março/Incêndio",
          "Total/novembro/Incêndio",
          "Total/outubro/Incêndio",
          "Total/setembro/Incêndio",
          "Total/abril/Queda de ocupante de veículo",
          "Total/agosto/Queda de ocupante de veículo",
          "Total/dezembro/Queda de ocupante de veículo",
          "Total/fevereiro/Queda de ocupante de veículo",
          "Total/janeiro/Queda de ocupante de veículo",
          "Total/julho/Queda de ocupante de veículo",
          "Total/junho/Queda de ocupante de veículo",
          "Total/maio/Queda de ocupante de veículo",
          "Total/março/Queda de ocupante de veículo",
          "Total/novembro/Queda de ocupante de veículo",
          "Total/outubro/Queda de ocupante de veículo",
          "Total/setembro/Queda de ocupante de veículo",
          "Total/abril/Saída de leito carroçável",
          "Total/agosto/Saída de leito carroçável",
          "Total/dezembro/Saída de leito carroçável",
          "Total/fevereiro/Saída de leito carroçável",
          "Total/janeiro/Saída de leito carroçável",
          "Total/julho/Saída de leito carroçável",
          "Total/junho/Saída de leito carroçável",
          "Total/maio/Saída de leito carroçável",
          "Total/março/Saída de leito carroçável",
          "Total/novembro/Saída de leito carroçável",
          "Total/outubro/Saída de leito carroçável",
          "Total/setembro/Saída de leito carroçável",
          "Total/abril/Tombamento",
          "Total/agosto/Tombamento",
          "Total/dezembro/Tombamento",
          "Total/fevereiro/Tombamento",
          "Total/janeiro/Tombamento",
          "Total/julho/Tombamento",
          "Total/junho/Tombamento",
          "Total/maio/Tombamento",
          "Total/março/Tombamento",
          "Total/novembro/Tombamento",
          "Total/outubro/Tombamento",
          "Total/setembro/Tombamento",
          "Total/abril",
          "Total/agosto",
          "Total/dezembro",
          "Total/fevereiro",
          "Total/janeiro",
          "Total/julho",
          "Total/junho",
          "Total/maio",
          "Total/março",
          "Total/novembro",
          "Total/outubro",
          "Total/setembro",
          "Total"
         ],
         "insidetextorientation": "radial",
         "labels": [
          "Atropelamento de Animal",
          "Atropelamento de Animal",
          "Atropelamento de Animal",
          "Atropelamento de Animal",
          "Atropelamento de Animal",
          "Atropelamento de Animal",
          "Atropelamento de Animal",
          "Atropelamento de Animal",
          "Atropelamento de Animal",
          "Atropelamento de Animal",
          "Atropelamento de Animal",
          "Atropelamento de Animal",
          "Atropelamento de Pedestre",
          "Atropelamento de Pedestre",
          "Atropelamento de Pedestre",
          "Atropelamento de Pedestre",
          "Atropelamento de Pedestre",
          "Atropelamento de Pedestre",
          "Atropelamento de Pedestre",
          "Atropelamento de Pedestre",
          "Atropelamento de Pedestre",
          "Atropelamento de Pedestre",
          "Atropelamento de Pedestre",
          "Atropelamento de Pedestre",
          "Capotamento",
          "Capotamento",
          "Capotamento",
          "Capotamento",
          "Capotamento",
          "Capotamento",
          "Capotamento",
          "Capotamento",
          "Capotamento",
          "Capotamento",
          "Capotamento",
          "Capotamento",
          "Colisão com objeto",
          "Colisão com objeto em movimento",
          "Colisão com objeto em movimento",
          "Colisão com objeto em movimento",
          "Colisão com objeto em movimento",
          "Colisão com objeto em movimento",
          "Colisão com objeto em movimento",
          "Colisão com objeto em movimento",
          "Colisão com objeto em movimento",
          "Colisão com objeto em movimento",
          "Colisão com objeto em movimento",
          "Colisão com objeto em movimento",
          "Colisão com objeto em movimento",
          "Colisão com objeto estático",
          "Colisão com objeto estático",
          "Colisão com objeto estático",
          "Colisão com objeto estático",
          "Colisão com objeto estático",
          "Colisão com objeto estático",
          "Colisão com objeto estático",
          "Colisão com objeto estático",
          "Colisão com objeto estático",
          "Colisão com objeto estático",
          "Colisão com objeto estático",
          "Colisão com objeto estático",
          "Colisão frontal",
          "Colisão frontal",
          "Colisão frontal",
          "Colisão frontal",
          "Colisão frontal",
          "Colisão frontal",
          "Colisão frontal",
          "Colisão frontal",
          "Colisão frontal",
          "Colisão frontal",
          "Colisão frontal",
          "Colisão frontal",
          "Colisão lateral",
          "Colisão lateral",
          "Colisão lateral",
          "Colisão lateral",
          "Colisão lateral",
          "Colisão lateral",
          "Colisão lateral",
          "Colisão lateral",
          "Colisão lateral",
          "Colisão lateral",
          "Colisão lateral",
          "Colisão lateral",
          "Colisão lateral mesmo sentido",
          "Colisão lateral sentido oposto",
          "Colisão transversal",
          "Colisão transversal",
          "Colisão transversal",
          "Colisão transversal",
          "Colisão transversal",
          "Colisão transversal",
          "Colisão transversal",
          "Colisão transversal",
          "Colisão transversal",
          "Colisão transversal",
          "Colisão transversal",
          "Colisão transversal",
          "Colisão traseira",
          "Colisão traseira",
          "Colisão traseira",
          "Colisão traseira",
          "Colisão traseira",
          "Colisão traseira",
          "Colisão traseira",
          "Colisão traseira",
          "Colisão traseira",
          "Colisão traseira",
          "Colisão traseira",
          "Colisão traseira",
          "Danos eventuais",
          "Danos eventuais",
          "Danos eventuais",
          "Danos eventuais",
          "Danos eventuais",
          "Danos eventuais",
          "Danos eventuais",
          "Danos eventuais",
          "Danos eventuais",
          "Danos eventuais",
          "Danos eventuais",
          "Danos eventuais",
          "Derramamento de carga",
          "Derramamento de carga",
          "Derramamento de carga",
          "Derramamento de carga",
          "Derramamento de carga",
          "Derramamento de carga",
          "Derramamento de carga",
          "Derramamento de carga",
          "Derramamento de carga",
          "Derramamento de carga",
          "Derramamento de carga",
          "Derramamento de carga",
          "Engavetamento",
          "Engavetamento",
          "Engavetamento",
          "Engavetamento",
          "Engavetamento",
          "Engavetamento",
          "Engavetamento",
          "Engavetamento",
          "Engavetamento",
          "Engavetamento",
          "Engavetamento",
          "Engavetamento",
          "Eventos atípicos",
          "Incêndio",
          "Incêndio",
          "Incêndio",
          "Incêndio",
          "Incêndio",
          "Incêndio",
          "Incêndio",
          "Incêndio",
          "Incêndio",
          "Incêndio",
          "Incêndio",
          "Incêndio",
          "Queda de ocupante de veículo",
          "Queda de ocupante de veículo",
          "Queda de ocupante de veículo",
          "Queda de ocupante de veículo",
          "Queda de ocupante de veículo",
          "Queda de ocupante de veículo",
          "Queda de ocupante de veículo",
          "Queda de ocupante de veículo",
          "Queda de ocupante de veículo",
          "Queda de ocupante de veículo",
          "Queda de ocupante de veículo",
          "Queda de ocupante de veículo",
          "Saída de leito carroçável",
          "Saída de leito carroçável",
          "Saída de leito carroçável",
          "Saída de leito carroçável",
          "Saída de leito carroçável",
          "Saída de leito carroçável",
          "Saída de leito carroçável",
          "Saída de leito carroçável",
          "Saída de leito carroçável",
          "Saída de leito carroçável",
          "Saída de leito carroçável",
          "Saída de leito carroçável",
          "Tombamento",
          "Tombamento",
          "Tombamento",
          "Tombamento",
          "Tombamento",
          "Tombamento",
          "Tombamento",
          "Tombamento",
          "Tombamento",
          "Tombamento",
          "Tombamento",
          "Tombamento",
          "abril",
          "agosto",
          "dezembro",
          "fevereiro",
          "janeiro",
          "julho",
          "junho",
          "maio",
          "março",
          "novembro",
          "outubro",
          "setembro",
          "Total"
         ],
         "maxdepth": 2,
         "name": "",
         "parents": [
          "Total/abril",
          "Total/agosto",
          "Total/dezembro",
          "Total/fevereiro",
          "Total/janeiro",
          "Total/julho",
          "Total/junho",
          "Total/maio",
          "Total/março",
          "Total/novembro",
          "Total/outubro",
          "Total/setembro",
          "Total/abril",
          "Total/agosto",
          "Total/dezembro",
          "Total/fevereiro",
          "Total/janeiro",
          "Total/julho",
          "Total/junho",
          "Total/maio",
          "Total/março",
          "Total/novembro",
          "Total/outubro",
          "Total/setembro",
          "Total/abril",
          "Total/agosto",
          "Total/dezembro",
          "Total/fevereiro",
          "Total/janeiro",
          "Total/julho",
          "Total/junho",
          "Total/maio",
          "Total/março",
          "Total/novembro",
          "Total/outubro",
          "Total/setembro",
          "Total/dezembro",
          "Total/abril",
          "Total/agosto",
          "Total/dezembro",
          "Total/fevereiro",
          "Total/janeiro",
          "Total/julho",
          "Total/junho",
          "Total/maio",
          "Total/março",
          "Total/novembro",
          "Total/outubro",
          "Total/setembro",
          "Total/abril",
          "Total/agosto",
          "Total/dezembro",
          "Total/fevereiro",
          "Total/janeiro",
          "Total/julho",
          "Total/junho",
          "Total/maio",
          "Total/março",
          "Total/novembro",
          "Total/outubro",
          "Total/setembro",
          "Total/abril",
          "Total/agosto",
          "Total/dezembro",
          "Total/fevereiro",
          "Total/janeiro",
          "Total/julho",
          "Total/junho",
          "Total/maio",
          "Total/março",
          "Total/novembro",
          "Total/outubro",
          "Total/setembro",
          "Total/abril",
          "Total/agosto",
          "Total/dezembro",
          "Total/fevereiro",
          "Total/janeiro",
          "Total/julho",
          "Total/junho",
          "Total/maio",
          "Total/março",
          "Total/novembro",
          "Total/outubro",
          "Total/setembro",
          "Total/dezembro",
          "Total/dezembro",
          "Total/abril",
          "Total/agosto",
          "Total/dezembro",
          "Total/fevereiro",
          "Total/janeiro",
          "Total/julho",
          "Total/junho",
          "Total/maio",
          "Total/março",
          "Total/novembro",
          "Total/outubro",
          "Total/setembro",
          "Total/abril",
          "Total/agosto",
          "Total/dezembro",
          "Total/fevereiro",
          "Total/janeiro",
          "Total/julho",
          "Total/junho",
          "Total/maio",
          "Total/março",
          "Total/novembro",
          "Total/outubro",
          "Total/setembro",
          "Total/abril",
          "Total/agosto",
          "Total/dezembro",
          "Total/fevereiro",
          "Total/janeiro",
          "Total/julho",
          "Total/junho",
          "Total/maio",
          "Total/março",
          "Total/novembro",
          "Total/outubro",
          "Total/setembro",
          "Total/abril",
          "Total/agosto",
          "Total/dezembro",
          "Total/fevereiro",
          "Total/janeiro",
          "Total/julho",
          "Total/junho",
          "Total/maio",
          "Total/março",
          "Total/novembro",
          "Total/outubro",
          "Total/setembro",
          "Total/abril",
          "Total/agosto",
          "Total/dezembro",
          "Total/fevereiro",
          "Total/janeiro",
          "Total/julho",
          "Total/junho",
          "Total/maio",
          "Total/março",
          "Total/novembro",
          "Total/outubro",
          "Total/setembro",
          "Total/dezembro",
          "Total/abril",
          "Total/agosto",
          "Total/dezembro",
          "Total/fevereiro",
          "Total/janeiro",
          "Total/julho",
          "Total/junho",
          "Total/maio",
          "Total/março",
          "Total/novembro",
          "Total/outubro",
          "Total/setembro",
          "Total/abril",
          "Total/agosto",
          "Total/dezembro",
          "Total/fevereiro",
          "Total/janeiro",
          "Total/julho",
          "Total/junho",
          "Total/maio",
          "Total/março",
          "Total/novembro",
          "Total/outubro",
          "Total/setembro",
          "Total/abril",
          "Total/agosto",
          "Total/dezembro",
          "Total/fevereiro",
          "Total/janeiro",
          "Total/julho",
          "Total/junho",
          "Total/maio",
          "Total/março",
          "Total/novembro",
          "Total/outubro",
          "Total/setembro",
          "Total/abril",
          "Total/agosto",
          "Total/dezembro",
          "Total/fevereiro",
          "Total/janeiro",
          "Total/julho",
          "Total/junho",
          "Total/maio",
          "Total/março",
          "Total/novembro",
          "Total/outubro",
          "Total/setembro",
          "Total",
          "Total",
          "Total",
          "Total",
          "Total",
          "Total",
          "Total",
          "Total",
          "Total",
          "Total",
          "Total",
          "Total",
          ""
         ],
         "textfont": {
          "color": "#aaaaaa"
         },
         "type": "sunburst",
         "values": [
          10,
          22,
          18,
          24,
          31,
          25,
          13,
          14,
          33,
          29,
          27,
          22,
          80,
          104,
          125,
          117,
          99,
          93,
          113,
          97,
          108,
          119,
          96,
          105,
          24,
          37,
          71,
          25,
          46,
          28,
          35,
          25,
          15,
          36,
          41,
          42,
          7,
          4,
          11,
          4,
          11,
          6,
          4,
          1,
          6,
          8,
          7,
          2,
          7,
          79,
          91,
          126,
          78,
          95,
          66,
          53,
          49,
          67,
          122,
          123,
          88,
          143,
          245,
          365,
          209,
          289,
          217,
          180,
          194,
          199,
          258,
          276,
          240,
          92,
          175,
          185,
          143,
          129,
          137,
          108,
          108,
          106,
          176,
          165,
          136,
          2,
          8,
          187,
          268,
          292,
          247,
          230,
          226,
          220,
          194,
          207,
          276,
          290,
          244,
          140,
          229,
          276,
          203,
          222,
          189,
          204,
          175,
          169,
          228,
          234,
          248,
          0,
          5,
          2,
          4,
          3,
          7,
          2,
          1,
          0,
          2,
          0,
          0,
          3,
          0,
          0,
          1,
          1,
          1,
          2,
          0,
          0,
          2,
          3,
          0,
          6,
          13,
          17,
          9,
          13,
          4,
          10,
          10,
          9,
          10,
          20,
          22,
          0,
          0,
          0,
          1,
          0,
          2,
          2,
          0,
          1,
          0,
          0,
          1,
          0,
          44,
          71,
          50,
          45,
          41,
          58,
          46,
          48,
          45,
          57,
          64,
          66,
          125,
          183,
          278,
          206,
          202,
          148,
          126,
          140,
          170,
          200,
          287,
          220,
          65,
          95,
          112,
          90,
          77,
          85,
          75,
          71,
          89,
          85,
          95,
          98,
          1002,
          1549,
          1939,
          1412,
          1486,
          1290,
          1188,
          1133,
          1225,
          1607,
          1724,
          1538,
          17093
         ]
        }
       ],
       "layout": {
        "legend": {
         "tracegroupgap": 0
        },
        "margin": {
         "b": 50,
         "l": 50,
         "r": 50,
         "t": 50
        },
        "paper_bgcolor": "#272b30",
        "plot_bgcolor": "#272b30",
        "sunburstcolorway": [
         "#f0f921",
         "#fdca26",
         "#fb9f3a",
         "#ed7953",
         "#d8576b",
         "#bd3786",
         "#9c179e",
         "#7201a8",
         "#46039f",
         "#0d0887"
        ],
        "template": {
         "data": {
          "bar": [
           {
            "error_x": {
             "color": "#2a3f5f"
            },
            "error_y": {
             "color": "#2a3f5f"
            },
            "marker": {
             "line": {
              "color": "#E5ECF6",
              "width": 0.5
             },
             "pattern": {
              "fillmode": "overlay",
              "size": 10,
              "solidity": 0.2
             }
            },
            "type": "bar"
           }
          ],
          "barpolar": [
           {
            "marker": {
             "line": {
              "color": "#E5ECF6",
              "width": 0.5
             },
             "pattern": {
              "fillmode": "overlay",
              "size": 10,
              "solidity": 0.2
             }
            },
            "type": "barpolar"
           }
          ],
          "carpet": [
           {
            "aaxis": {
             "endlinecolor": "#2a3f5f",
             "gridcolor": "white",
             "linecolor": "white",
             "minorgridcolor": "white",
             "startlinecolor": "#2a3f5f"
            },
            "baxis": {
             "endlinecolor": "#2a3f5f",
             "gridcolor": "white",
             "linecolor": "white",
             "minorgridcolor": "white",
             "startlinecolor": "#2a3f5f"
            },
            "type": "carpet"
           }
          ],
          "choropleth": [
           {
            "colorbar": {
             "outlinewidth": 0,
             "ticks": ""
            },
            "type": "choropleth"
           }
          ],
          "contour": [
           {
            "colorbar": {
             "outlinewidth": 0,
             "ticks": ""
            },
            "colorscale": [
             [
              0,
              "#0d0887"
             ],
             [
              0.1111111111111111,
              "#46039f"
             ],
             [
              0.2222222222222222,
              "#7201a8"
             ],
             [
              0.3333333333333333,
              "#9c179e"
             ],
             [
              0.4444444444444444,
              "#bd3786"
             ],
             [
              0.5555555555555556,
              "#d8576b"
             ],
             [
              0.6666666666666666,
              "#ed7953"
             ],
             [
              0.7777777777777778,
              "#fb9f3a"
             ],
             [
              0.8888888888888888,
              "#fdca26"
             ],
             [
              1,
              "#f0f921"
             ]
            ],
            "type": "contour"
           }
          ],
          "contourcarpet": [
           {
            "colorbar": {
             "outlinewidth": 0,
             "ticks": ""
            },
            "type": "contourcarpet"
           }
          ],
          "heatmap": [
           {
            "colorbar": {
             "outlinewidth": 0,
             "ticks": ""
            },
            "colorscale": [
             [
              0,
              "#0d0887"
             ],
             [
              0.1111111111111111,
              "#46039f"
             ],
             [
              0.2222222222222222,
              "#7201a8"
             ],
             [
              0.3333333333333333,
              "#9c179e"
             ],
             [
              0.4444444444444444,
              "#bd3786"
             ],
             [
              0.5555555555555556,
              "#d8576b"
             ],
             [
              0.6666666666666666,
              "#ed7953"
             ],
             [
              0.7777777777777778,
              "#fb9f3a"
             ],
             [
              0.8888888888888888,
              "#fdca26"
             ],
             [
              1,
              "#f0f921"
             ]
            ],
            "type": "heatmap"
           }
          ],
          "heatmapgl": [
           {
            "colorbar": {
             "outlinewidth": 0,
             "ticks": ""
            },
            "colorscale": [
             [
              0,
              "#0d0887"
             ],
             [
              0.1111111111111111,
              "#46039f"
             ],
             [
              0.2222222222222222,
              "#7201a8"
             ],
             [
              0.3333333333333333,
              "#9c179e"
             ],
             [
              0.4444444444444444,
              "#bd3786"
             ],
             [
              0.5555555555555556,
              "#d8576b"
             ],
             [
              0.6666666666666666,
              "#ed7953"
             ],
             [
              0.7777777777777778,
              "#fb9f3a"
             ],
             [
              0.8888888888888888,
              "#fdca26"
             ],
             [
              1,
              "#f0f921"
             ]
            ],
            "type": "heatmapgl"
           }
          ],
          "histogram": [
           {
            "marker": {
             "pattern": {
              "fillmode": "overlay",
              "size": 10,
              "solidity": 0.2
             }
            },
            "type": "histogram"
           }
          ],
          "histogram2d": [
           {
            "colorbar": {
             "outlinewidth": 0,
             "ticks": ""
            },
            "colorscale": [
             [
              0,
              "#0d0887"
             ],
             [
              0.1111111111111111,
              "#46039f"
             ],
             [
              0.2222222222222222,
              "#7201a8"
             ],
             [
              0.3333333333333333,
              "#9c179e"
             ],
             [
              0.4444444444444444,
              "#bd3786"
             ],
             [
              0.5555555555555556,
              "#d8576b"
             ],
             [
              0.6666666666666666,
              "#ed7953"
             ],
             [
              0.7777777777777778,
              "#fb9f3a"
             ],
             [
              0.8888888888888888,
              "#fdca26"
             ],
             [
              1,
              "#f0f921"
             ]
            ],
            "type": "histogram2d"
           }
          ],
          "histogram2dcontour": [
           {
            "colorbar": {
             "outlinewidth": 0,
             "ticks": ""
            },
            "colorscale": [
             [
              0,
              "#0d0887"
             ],
             [
              0.1111111111111111,
              "#46039f"
             ],
             [
              0.2222222222222222,
              "#7201a8"
             ],
             [
              0.3333333333333333,
              "#9c179e"
             ],
             [
              0.4444444444444444,
              "#bd3786"
             ],
             [
              0.5555555555555556,
              "#d8576b"
             ],
             [
              0.6666666666666666,
              "#ed7953"
             ],
             [
              0.7777777777777778,
              "#fb9f3a"
             ],
             [
              0.8888888888888888,
              "#fdca26"
             ],
             [
              1,
              "#f0f921"
             ]
            ],
            "type": "histogram2dcontour"
           }
          ],
          "mesh3d": [
           {
            "colorbar": {
             "outlinewidth": 0,
             "ticks": ""
            },
            "type": "mesh3d"
           }
          ],
          "parcoords": [
           {
            "line": {
             "colorbar": {
              "outlinewidth": 0,
              "ticks": ""
             }
            },
            "type": "parcoords"
           }
          ],
          "pie": [
           {
            "automargin": true,
            "type": "pie"
           }
          ],
          "scatter": [
           {
            "marker": {
             "colorbar": {
              "outlinewidth": 0,
              "ticks": ""
             }
            },
            "type": "scatter"
           }
          ],
          "scatter3d": [
           {
            "line": {
             "colorbar": {
              "outlinewidth": 0,
              "ticks": ""
             }
            },
            "marker": {
             "colorbar": {
              "outlinewidth": 0,
              "ticks": ""
             }
            },
            "type": "scatter3d"
           }
          ],
          "scattercarpet": [
           {
            "marker": {
             "colorbar": {
              "outlinewidth": 0,
              "ticks": ""
             }
            },
            "type": "scattercarpet"
           }
          ],
          "scattergeo": [
           {
            "marker": {
             "colorbar": {
              "outlinewidth": 0,
              "ticks": ""
             }
            },
            "type": "scattergeo"
           }
          ],
          "scattergl": [
           {
            "marker": {
             "colorbar": {
              "outlinewidth": 0,
              "ticks": ""
             }
            },
            "type": "scattergl"
           }
          ],
          "scattermapbox": [
           {
            "marker": {
             "colorbar": {
              "outlinewidth": 0,
              "ticks": ""
             }
            },
            "type": "scattermapbox"
           }
          ],
          "scatterpolar": [
           {
            "marker": {
             "colorbar": {
              "outlinewidth": 0,
              "ticks": ""
             }
            },
            "type": "scatterpolar"
           }
          ],
          "scatterpolargl": [
           {
            "marker": {
             "colorbar": {
              "outlinewidth": 0,
              "ticks": ""
             }
            },
            "type": "scatterpolargl"
           }
          ],
          "scatterternary": [
           {
            "marker": {
             "colorbar": {
              "outlinewidth": 0,
              "ticks": ""
             }
            },
            "type": "scatterternary"
           }
          ],
          "surface": [
           {
            "colorbar": {
             "outlinewidth": 0,
             "ticks": ""
            },
            "colorscale": [
             [
              0,
              "#0d0887"
             ],
             [
              0.1111111111111111,
              "#46039f"
             ],
             [
              0.2222222222222222,
              "#7201a8"
             ],
             [
              0.3333333333333333,
              "#9c179e"
             ],
             [
              0.4444444444444444,
              "#bd3786"
             ],
             [
              0.5555555555555556,
              "#d8576b"
             ],
             [
              0.6666666666666666,
              "#ed7953"
             ],
             [
              0.7777777777777778,
              "#fb9f3a"
             ],
             [
              0.8888888888888888,
              "#fdca26"
             ],
             [
              1,
              "#f0f921"
             ]
            ],
            "type": "surface"
           }
          ],
          "table": [
           {
            "cells": {
             "fill": {
              "color": "#EBF0F8"
             },
             "line": {
              "color": "white"
             }
            },
            "header": {
             "fill": {
              "color": "#C8D4E3"
             },
             "line": {
              "color": "white"
             }
            },
            "type": "table"
           }
          ]
         },
         "layout": {
          "annotationdefaults": {
           "arrowcolor": "#2a3f5f",
           "arrowhead": 0,
           "arrowwidth": 1
          },
          "autotypenumbers": "strict",
          "coloraxis": {
           "colorbar": {
            "outlinewidth": 0,
            "ticks": ""
           }
          },
          "colorscale": {
           "diverging": [
            [
             0,
             "#8e0152"
            ],
            [
             0.1,
             "#c51b7d"
            ],
            [
             0.2,
             "#de77ae"
            ],
            [
             0.3,
             "#f1b6da"
            ],
            [
             0.4,
             "#fde0ef"
            ],
            [
             0.5,
             "#f7f7f7"
            ],
            [
             0.6,
             "#e6f5d0"
            ],
            [
             0.7,
             "#b8e186"
            ],
            [
             0.8,
             "#7fbc41"
            ],
            [
             0.9,
             "#4d9221"
            ],
            [
             1,
             "#276419"
            ]
           ],
           "sequential": [
            [
             0,
             "#0d0887"
            ],
            [
             0.1111111111111111,
             "#46039f"
            ],
            [
             0.2222222222222222,
             "#7201a8"
            ],
            [
             0.3333333333333333,
             "#9c179e"
            ],
            [
             0.4444444444444444,
             "#bd3786"
            ],
            [
             0.5555555555555556,
             "#d8576b"
            ],
            [
             0.6666666666666666,
             "#ed7953"
            ],
            [
             0.7777777777777778,
             "#fb9f3a"
            ],
            [
             0.8888888888888888,
             "#fdca26"
            ],
            [
             1,
             "#f0f921"
            ]
           ],
           "sequentialminus": [
            [
             0,
             "#0d0887"
            ],
            [
             0.1111111111111111,
             "#46039f"
            ],
            [
             0.2222222222222222,
             "#7201a8"
            ],
            [
             0.3333333333333333,
             "#9c179e"
            ],
            [
             0.4444444444444444,
             "#bd3786"
            ],
            [
             0.5555555555555556,
             "#d8576b"
            ],
            [
             0.6666666666666666,
             "#ed7953"
            ],
            [
             0.7777777777777778,
             "#fb9f3a"
            ],
            [
             0.8888888888888888,
             "#fdca26"
            ],
            [
             1,
             "#f0f921"
            ]
           ]
          },
          "colorway": [
           "#636efa",
           "#EF553B",
           "#00cc96",
           "#ab63fa",
           "#FFA15A",
           "#19d3f3",
           "#FF6692",
           "#B6E880",
           "#FF97FF",
           "#FECB52"
          ],
          "font": {
           "color": "#2a3f5f"
          },
          "geo": {
           "bgcolor": "white",
           "lakecolor": "white",
           "landcolor": "#E5ECF6",
           "showlakes": true,
           "showland": true,
           "subunitcolor": "white"
          },
          "hoverlabel": {
           "align": "left"
          },
          "hovermode": "closest",
          "mapbox": {
           "style": "light"
          },
          "paper_bgcolor": "white",
          "plot_bgcolor": "#E5ECF6",
          "polar": {
           "angularaxis": {
            "gridcolor": "white",
            "linecolor": "white",
            "ticks": ""
           },
           "bgcolor": "#E5ECF6",
           "radialaxis": {
            "gridcolor": "white",
            "linecolor": "white",
            "ticks": ""
           }
          },
          "scene": {
           "xaxis": {
            "backgroundcolor": "#E5ECF6",
            "gridcolor": "white",
            "gridwidth": 2,
            "linecolor": "white",
            "showbackground": true,
            "ticks": "",
            "zerolinecolor": "white"
           },
           "yaxis": {
            "backgroundcolor": "#E5ECF6",
            "gridcolor": "white",
            "gridwidth": 2,
            "linecolor": "white",
            "showbackground": true,
            "ticks": "",
            "zerolinecolor": "white"
           },
           "zaxis": {
            "backgroundcolor": "#E5ECF6",
            "gridcolor": "white",
            "gridwidth": 2,
            "linecolor": "white",
            "showbackground": true,
            "ticks": "",
            "zerolinecolor": "white"
           }
          },
          "shapedefaults": {
           "line": {
            "color": "#2a3f5f"
           }
          },
          "ternary": {
           "aaxis": {
            "gridcolor": "white",
            "linecolor": "white",
            "ticks": ""
           },
           "baxis": {
            "gridcolor": "white",
            "linecolor": "white",
            "ticks": ""
           },
           "bgcolor": "#E5ECF6",
           "caxis": {
            "gridcolor": "white",
            "linecolor": "white",
            "ticks": ""
           }
          },
          "title": {
           "x": 0.05
          },
          "xaxis": {
           "automargin": true,
           "gridcolor": "white",
           "linecolor": "white",
           "ticks": "",
           "title": {
            "standoff": 15
           },
           "zerolinecolor": "white",
           "zerolinewidth": 2
          },
          "yaxis": {
           "automargin": true,
           "gridcolor": "white",
           "linecolor": "white",
           "ticks": "",
           "title": {
            "standoff": 15
           },
           "zerolinecolor": "white",
           "zerolinewidth": 2
          }
         }
        }
       }
      }
     },
     "metadata": {},
     "output_type": "display_data"
    }
   ],
   "source": [
    "df=dict(MESES=meses_2020, TIPOS=tipos, FERIDOS=feridos, Total='Total') #dicionario que irá receber os dados das listas que estarão no grafico\n",
    "\n",
    "fig_sunburst=px.sunburst(df,path=['Total','MESES','TIPOS'], values='FERIDOS', #plotando o gráfico.\n",
    "                        branchvalues = 'total', #determina como os itens em valores são somados. \n",
    "                        color_discrete_sequence= px.colors.sequential.Plasma_r,  #mudar a textura de cor do gráfico \n",
    "                        maxdepth=2) #divisões do gráfico\n",
    "\n",
    "fig_sunburst.update_traces(hovertemplate='<b>%{label}</b> <br> Feridos: %{value}<br>',\n",
    "                        insidetextorientation='radial', \n",
    "                        textfont_color='#aaaaaa', \n",
    "                        selector=dict(type='sunburst'))\n",
    "\n",
    "                    \n",
    "fig_sunburst.update_layout(plot_bgcolor=\"#272b30\",paper_bgcolor=\"#272b30\",margin=dict(l=50, r=50, t=50, b=50)) #características do layout do gráfico "
   ]
  },
  {
   "cell_type": "markdown",
   "metadata": {},
   "source": [
    "# - Plotando o Grafico de Rosca no Dash"
   ]
  },
  {
   "cell_type": "code",
   "execution_count": 467,
   "metadata": {},
   "outputs": [],
   "source": [
    "app = dash.Dash()\n",
    "app.layout = html.Div( children=[\n",
    "    html.H1(children='Feridos por tipo de acidentes', style={'textAlign': 'center',}),  #característicacs de layout na página html,título,sub-título,centralização e estilo da fonte\n",
    "    html.Div(children=\n",
    "        'Quantidade de feridos de cada tipo de acidentes por mês de 2020.'\n",
    "    ,style={'textAlign': 'center',}),\n",
    "    dcc.Graph(id='sunburst-graph',figure=fig_sunburst) #criando identidade pro gráfico \n",
    "])"
   ]
  },
  {
   "cell_type": "markdown",
   "metadata": {},
   "source": [
    "# GRAFICO DE CAUSAS"
   ]
  },
  {
   "cell_type": "code",
   "execution_count": 468,
   "metadata": {},
   "outputs": [],
   "source": [
    "#Barra - Causas\n",
    "\n",
    "dias_semana = separar_coluna(data_list,2)\n",
    "\n",
    "dias_semana_single = excluir_duplicado(dias_semana)\n",
    "\n",
    "causas = separar_coluna(data_list,8)\n",
    "\n",
    "causas_single = excluir_duplicado(causas)\n",
    "\n",
    "\n",
    "segunda = lista_completa(causas_single,data_list,'segunda', 2, 8)\n",
    "terca = lista_completa(causas_single,data_list,'terça', 2, 8)\n",
    "quarta = lista_completa(causas_single,data_list,'quarta', 2, 8)\n",
    "quinta = lista_completa(causas_single,data_list,'quinta', 2, 8)\n",
    "sexta = lista_completa(causas_single,data_list,'sexta', 2, 8)\n",
    "sabado = lista_completa(causas_single,data_list,'sábado', 2, 8)\n",
    "domingo = lista_completa(causas_single,data_list,'domingo', 2, 8)\n",
    "\n",
    "\n",
    "dias = segunda + terca + quarta + quinta + sexta + sabado + domingo\n",
    "colunas = ['Dias da Semana', 'Quantidade', 'Causas']\n",
    "\n",
    "\n",
    "\n",
    "with open('causas.csv', 'w', encoding='UTF8', newline='') as f:\n",
    "     writer = csv.writer(f)\n",
    "     writer.writerow(colunas)\n",
    "     writer.writerows(dias)\n",
    "\n",
    "\n",
    "df = pd.read_csv('causas.csv')\n",
    "\n",
    "                      \n",
    "def calculo_causas(lista, causa_acidente):\n",
    "  tipos=[]\n",
    "  segunda = 0\n",
    "  terça = 0\n",
    "  quarta = 0\n",
    "  quinta = 0\n",
    "  sexta = 0\n",
    "  sabado = 0\n",
    "  domingo = 0\n",
    "  for linha in lista:\n",
    "    if linha[2] == 'segunda' and linha[8] == causa_acidente:\n",
    "      segunda +=1\n",
    "  for linha in lista:\n",
    "    if linha[2] == 'terça' and linha[8] == causa_acidente:\n",
    "      terça +=1\n",
    "  for linha in lista:\n",
    "    if linha[2] == 'quarta' and linha[8] == causa_acidente:\n",
    "      quarta +=1\n",
    "  for linha in lista:\n",
    "    if linha[2] == 'quinta' and linha[8] == causa_acidente:\n",
    "      quinta +=1\n",
    "  for linha in lista:\n",
    "    if linha[2] == 'sexta' and linha[8] == causa_acidente:\n",
    "      sexta +=1\n",
    "  for linha in lista:\n",
    "    if linha[2] == 'sábado' and linha[8] == causa_acidente:\n",
    "      sabado +=1\n",
    "  for linha in lista:\n",
    "    if linha[2] == 'domingo' and linha[8] == causa_acidente:\n",
    "      domingo +=1\n",
    "  tipos.append(segunda)\n",
    "  tipos.append(terça)\n",
    "  tipos.append(quarta)\n",
    "  tipos.append(quinta)\n",
    "  tipos.append(sexta)\n",
    "  tipos.append(sabado)\n",
    "  tipos.append(domingo)\n",
    "  return tipos\n"
   ]
  },
  {
   "cell_type": "markdown",
   "metadata": {},
   "source": [
    "# GRAFICO DOS ACIDENTES POR PERIODO"
   ]
  },
  {
   "cell_type": "code",
   "execution_count": 469,
   "metadata": {},
   "outputs": [],
   "source": [
    "\n",
    "dias_semana = separar_coluna(data_list,2)\n",
    "\n",
    "dias_semana_single = excluir_duplicado(dias_semana)\n",
    "\n",
    "periodo = separar_coluna(data_list,11)\n",
    "\n",
    "periodo_single = excluir_duplicado(periodo)\n",
    "\n",
    "\n",
    "segunda = lista_completa(periodo_single, data_list,'segunda', 2, 11)\n",
    "terca = lista_completa(periodo_single, data_list,'terça', 2, 11)              \n",
    "quarta = lista_completa(periodo_single, data_list,'quarta', 2, 11)\n",
    "quinta = lista_completa(periodo_single, data_list,'quinta', 2, 11)\n",
    "sexta = lista_completa(periodo_single, data_list,'sexta', 2, 11)\n",
    "sabado = lista_completa(periodo_single, data_list,'sábado', 2, 11)\n",
    "domingo = lista_completa(periodo_single, data_list,'domingo', 2, 11)\n",
    "\n",
    "\n",
    "dias = segunda + terca + quarta + quinta + sexta + sabado + domingo\n",
    "colunas = ['Dias da Semana', 'Quantidade', 'Periodo']\n",
    "\n",
    "\n",
    "\n",
    "with open('nova_basedados.csv', 'w', encoding='UTF8', newline='') as f:\n",
    "     writer = csv.writer(f)\n",
    "     writer.writerow(colunas)\n",
    "     writer.writerows(dias)\n",
    "\n",
    "nova_df = pd.read_csv('nova_basedados.csv')\n",
    "fig = px.bar(nova_df, x='Dias da Semana', \n",
    "                      y = 'Quantidade', \n",
    "                      color='Periodo' , \n",
    "                      barmode='group')\n",
    "\n",
    "periodo_single.append('Todos os períodos')"
   ]
  },
  {
   "cell_type": "code",
   "execution_count": 470,
   "metadata": {},
   "outputs": [],
   "source": [
    "nnova_df = nova_df.values.tolist()"
   ]
  },
  {
   "cell_type": "markdown",
   "metadata": {},
   "source": [
    "# GRAFICO COROPLETICO"
   ]
  },
  {
   "cell_type": "code",
   "execution_count": 471,
   "metadata": {},
   "outputs": [],
   "source": [
    "#Mapa Coroplético\n",
    "\n",
    "newdata = pd.read_csv('newdata.csv') \n",
    "brasil_states = json.load(open(\"brazil_geo.json\", \"r\"))\n",
    "\n",
    "estados = (estado(data_list,4))            \n",
    "\n",
    "\n",
    "soma_mortes = []\n",
    "soma_feridos = []\n",
    "geral = []\n",
    "for i in estados:\n",
    "    mortes = calculo_mortes(data_list, i) \n",
    "    feridos = calculo_feridos(data_list, i) \n",
    "    total = mortes + feridos \n",
    "\n",
    "    geral.append(total) \n",
    "    soma_mortes.append(mortes) \n",
    "    soma_feridos.append(feridos) \n",
    "\n",
    " \n",
    "dados = [] \n",
    "for i in range (len(geral)):\n",
    "    dados.append([soma_mortes[i], soma_feridos[i], geral[i], estados[i]]) "
   ]
  },
  {
   "cell_type": "code",
   "execution_count": 472,
   "metadata": {},
   "outputs": [
    {
     "name": "stdout",
     "output_type": "stream",
     "text": [
      "Dash is running on http://127.0.0.1:8050/\n",
      "\n",
      "Dash is running on http://127.0.0.1:8050/\n",
      "\n",
      "Dash is running on http://127.0.0.1:8050/\n",
      "\n",
      "Dash is running on http://127.0.0.1:8050/\n",
      "\n",
      "Dash is running on http://127.0.0.1:8050/\n",
      "\n",
      "Dash is running on http://127.0.0.1:8050/\n",
      "\n",
      "Dash is running on http://127.0.0.1:8050/\n",
      "\n",
      "Dash is running on http://127.0.0.1:8050/\n",
      "\n",
      "Dash is running on http://127.0.0.1:8050/\n",
      "\n",
      "Dash is running on http://127.0.0.1:8050/\n",
      "\n",
      "Dash is running on http://127.0.0.1:8050/\n",
      "\n",
      "Dash is running on http://127.0.0.1:8050/\n",
      "\n",
      "Dash is running on http://127.0.0.1:8050/\n",
      "\n",
      "Dash is running on http://127.0.0.1:8050/\n",
      "\n",
      "Dash is running on http://127.0.0.1:8050/\n",
      "\n",
      "Dash is running on http://127.0.0.1:8050/\n",
      "\n",
      "Dash is running on http://127.0.0.1:8050/\n",
      "\n",
      "Dash is running on http://127.0.0.1:8050/\n",
      "\n",
      "Dash is running on http://127.0.0.1:8050/\n",
      "\n",
      "Dash is running on http://127.0.0.1:8050/\n",
      "\n",
      "Dash is running on http://127.0.0.1:8050/\n",
      "\n",
      "Dash is running on http://127.0.0.1:8050/\n",
      "\n",
      "Dash is running on http://127.0.0.1:8050/\n",
      "\n",
      "Dash is running on http://127.0.0.1:8050/\n",
      "\n",
      "Dash is running on http://127.0.0.1:8050/\n",
      "\n",
      "Dash is running on http://127.0.0.1:8050/\n",
      "\n",
      "Dash is running on http://127.0.0.1:8050/\n",
      "\n",
      "Dash is running on http://127.0.0.1:8050/\n",
      "\n",
      "Dash is running on http://127.0.0.1:8050/\n",
      "\n",
      "Dash is running on http://127.0.0.1:8050/\n",
      "\n",
      "Dash is running on http://127.0.0.1:8050/\n",
      "\n",
      "Dash is running on http://127.0.0.1:8050/\n",
      "\n",
      "Dash is running on http://127.0.0.1:8050/\n",
      "\n",
      "Dash is running on http://127.0.0.1:8050/\n",
      "\n",
      "Dash is running on http://127.0.0.1:8050/\n",
      "\n",
      "Dash is running on http://127.0.0.1:8050/\n",
      "\n",
      " * Serving Flask app '__main__' (lazy loading)\n",
      " * Environment: production\n",
      "\u001b[31m   WARNING: This is a development server. Do not use it in a production deployment.\u001b[0m\n",
      "\u001b[2m   Use a production WSGI server instead.\u001b[0m\n",
      " * Debug mode: on\n"
     ]
    }
   ],
   "source": [
    "\n",
    "app = dash.Dash(__name__, external_stylesheets=[dbc.themes.SLATE])\n",
    "\n",
    "app.layout = html.Div(children=[\n",
    "\n",
    "    html.H1(children='Acidentes rodoviarios no brasil em 2020', style={'textAlign': 'center',}),\n",
    "    \n",
    "    #GRAFICO CAUSAS\n",
    "\n",
    "    html.H2(children ='Causas', style={'textAlign': 'center',}),\n",
    "        \n",
    "        html.P(children ='Selecione a causa a ser analisada:', style={'textAlign': 'center',}),\n",
    "                \n",
    "                dcc.Dropdown(causas_single, value ='Animais na Pista', id ='selecione_causa'),\n",
    "                \n",
    "                dcc.Graph(id = 'my_graph', figure = {}),\n",
    "                \n",
    "    #GRAFICO PERIODO\n",
    "\n",
    "    html.H2(children='Acidentes por periodo', style={'textAlign': 'center',}),\n",
    "        \n",
    "        html.P(children ='Selecione o período do dia:', style={'textAlign': 'center',}),\n",
    "                \n",
    "                dcc.Dropdown(periodo_single, value='Todos os períodos', id='botao-dropdown'),\n",
    "                \n",
    "                dcc.Graph(id='grafico-periodo',figure=fig),\n",
    "\n",
    "    #GRAFICO ROSCA\n",
    "\n",
    "    html.H2(children='Feridos por tipo de acidentes', style={'textAlign': 'center',}),                 #característicacs de layout na página html,título,sub-título,centralização e estilo da fonte\n",
    "        \n",
    "        html.Div(children=\n",
    "            \n",
    "            'Quantidade de feridos de cada tipo de acidentes por mês de 2020.', style={'textAlign': 'center',}),\n",
    "        \n",
    "        dcc.Graph(id='sunburst-graph',figure=fig_sunburst),                                             #criando identidade pro gráfico \n",
    "\n",
    "    #GRAFICO COROPLETICO\n",
    "\n",
    "    html.H2('Acidentes rodoviários 2020', style={'textAlign': 'center',}),                              #Tag de Cabeçalho – onde h1 tem um tamanho maior, que vai diminuindo até chegar no h6.\n",
    "        \n",
    "        html.P(\"Selecione o parâmetro\", style={'textAlign': 'center',}),                                # Tag de parágrafo\n",
    "    \n",
    "    dcc.RadioItems(                                                                                     # o input do tipo \"radioitems\" se refere a um elemento que possui opções que podem ser marcadas ou desmarcadas, caracterizadas por um pequeno círculo ao lado do texto.\n",
    "        id='cor',                                                                                       #identificação\n",
    "        options=[\n",
    "       {'label': 'Mortos', 'value': 'Mortos'},\n",
    "       {'label': 'Feridos', 'value': 'Feridos'},\n",
    "       {'label': 'Total de acidentados', 'value': 'Total'},\n",
    "   ], #opções a serem marcadas\n",
    "        value=\"Total\", #correspondência (depende da opção escolhida pelo usuário)\n",
    "        inline=True, #(opções alinhadas lado a lado)\n",
    "        style={'textAlign': 'center',}   \n",
    "    ),\n",
    "\n",
    "\n",
    "    dcc.Graph(id=\"mapa\"), #Criação de um gráfico\n",
    "\n",
    "])\n",
    "\n",
    "\n",
    "\n",
    "\n",
    "\n",
    "\n",
    "@app.callback(\n",
    "    \n",
    "    Output(component_id='grafico-periodo',component_property='figure'),  \n",
    "    Output(component_id='my_graph', component_property='figure'),\n",
    "    Output(component_id=\"mapa\",component_property=\"figure\"),\n",
    "    Input(component_id='botao-dropdown',component_property='value'),\n",
    "    Input(component_id= 'selecione_causa', component_property='value'),\n",
    "    Input(component_id=\"cor\",component_property=\"value\")   \n",
    "\n",
    ")\n",
    "\n",
    "def update_output(value,causas, cor):\n",
    "    \n",
    "\n",
    "#GRAFICO DE CAUSAS\n",
    "    for causa in causas_single:\n",
    "\n",
    "        if causa == causas:\n",
    "            totales = calculo_causas(data_list,causa)\n",
    "            \n",
    "    fig2 = px.bar( x = dias_semana_single, y = totales)\n",
    "    \n",
    "\n",
    "    fig2.update_layout(plot_bgcolor=\"#272b30\",paper_bgcolor=\"#272b30\")\n",
    "    fig2.update_xaxes(color='#aaaaaa')\n",
    "    fig2.update_yaxes(color='#aaaaaa')\n",
    "\n",
    "#GRAFICO DOS PERIODOS\n",
    "    if value == 'Todos os períodos':\n",
    "\n",
    "        fig = px.bar(nova_df, x='Dias da Semana', \n",
    "                            y = 'Quantidade', \n",
    "                            color='Periodo' , \n",
    "                            barmode='group',\n",
    "                            )\n",
    "\n",
    "\n",
    "        fig.update_layout(plot_bgcolor=\"#272b30\",paper_bgcolor=\"#272b30\",legend_title_font_color=\"#aaaaaa\", font_color=\"#aaaaaa\")\n",
    "        fig.update_xaxes(color='#aaaaaa')\n",
    "        fig.update_yaxes(color='#aaaaaa')\n",
    "    else:\n",
    "\n",
    "        conteudo_lista = filtro_periodo(value)\n",
    "\n",
    "        valores = []        #Quebrando \n",
    "        semanas = []\n",
    "        periodo = []\n",
    "        \n",
    "        for c in conteudo_lista :\n",
    "            semanas.append(c[0])\n",
    "            valores.append(c[1])\n",
    "            periodo.append(c[2])\n",
    "\n",
    "        df = pd.DataFrame((zip(semanas,valores,periodo)), columns = ['Dias da Semana', 'Quantidade', 'Periodo'])\n",
    "        \n",
    "        fig = px.bar(df, x='Dias da Semana',                                 #AS LINHAS QUE DEVERAO SER ANALISADAS SOMENTE SAO AS\n",
    "                            y = 'Quantidade',                                #QUE SAO PERTENCENTES AOS VALORES INDICADO NO FILTRO\n",
    "                            color='Periodo' , \n",
    "                            barmode='group',\n",
    "                            )\n",
    "                            \n",
    "        fig.update_layout(plot_bgcolor=\"#272b30\",paper_bgcolor=\"#272b30\",legend_title_font_color=\"#aaaaaa\", font_color=\"#aaaaaa\")\n",
    "        fig.update_xaxes(color='#aaaaaa')\n",
    "        fig.update_yaxes(color='#aaaaaa')\n",
    "\n",
    "\n",
    "#GRAFICO COROPLETICO\n",
    "\n",
    "    df_mapa = newdata # cópia da base de dados para não alterar a original\n",
    "    geojson = brasil_states # cópia do arquivo geojson para não alterar o original\n",
    "\n",
    "    if cor == 'Mortos':  #se a opçao 'mortos' for selecionada, o mapa terá a seguinte aparência:\n",
    "        fig_mapa = px.choropleth_mapbox(df_mapa, geojson=geojson, locations='UF', color = cor,\n",
    "                            color_continuous_scale=\"Burg\",                                                \n",
    "                            center = {\"lat\": -13.6128, \"lon\": -48.5920}, \n",
    "                            range_color=(0, 530), \n",
    "                            zoom=3, \n",
    "                            opacity=0.4,   \n",
    "                            hover_data={'Mortos': True, 'Feridos': False, 'Total': False, 'UF': True}   #define o que vai ser mostrado ao passar o mouse                 \n",
    "    )   \n",
    "\n",
    "    elif cor == 'Feridos': # Mas se a opçao 'feridos' for selecionada, o mapa terá a seguinte aparência:\n",
    "        fig_mapa = px.choropleth_mapbox(df_mapa, geojson=geojson, locations='UF', color = cor,\n",
    "                            color_continuous_scale=\"Burg\",                                                \n",
    "                            center = {\"lat\": -13.6128, \"lon\": -48.5920}, \n",
    "                            range_color=(0, 10000), \n",
    "                            zoom=3, \n",
    "                            opacity=0.4,   \n",
    "                            hover_data={'Mortos': False, 'Feridos': True, 'Total': False, 'UF': True}   #define o que vai ser mostrado ao passar o mouse                 \n",
    "    )   \n",
    "\n",
    "    else:  # Por fim se a opçao 'total' for selecionada, o mapa terá a seguinte aparência:\n",
    "        fig_mapa = px.choropleth_mapbox(df_mapa, geojson=geojson, locations='UF', color = cor,\n",
    "                            color_continuous_scale=\"Burg\",                                                \n",
    "                            center = {\"lat\": -13.6128, \"lon\": -48.5920}, \n",
    "                            range_color=(0, 10000), \n",
    "                            zoom=3, \n",
    "                            opacity=0.4,   \n",
    "                            hover_data={'Mortos': False, 'Feridos': False, 'Total': True, 'UF': True}    #define o que vai ser mostrado ao passar o mouse                \n",
    "    )   \n",
    "\n",
    "\n",
    "\n",
    "\n",
    "    fig_mapa.update_layout(\n",
    "        mapbox_style=\"carto-darkmatter\", #estilo\n",
    "        autosize= True, #ajuste na tela\n",
    "        margin=go.layout.Margin(l=300, r=300, t=0, b=0),\n",
    "        plot_bgcolor=\"#272b30\",\n",
    "        paper_bgcolor=\"#272b30\",\n",
    "        legend_title_font_color=\"#aaaaaa\",\n",
    "         font_color=\"#aaaaaa\"\n",
    "    ) \n",
    "\n",
    "    return fig, fig2, fig_mapa\n",
    "\n",
    "\n",
    "if __name__ == '__main__':\n",
    "    app.run_server(debug=True, use_reloader=False)"
   ]
  }
 ],
 "metadata": {
  "interpreter": {
   "hash": "68d1dd7944d42e6df3ad0b9476b5e8eb3670812df721f2c988076edb9ff4590c"
  },
  "kernelspec": {
   "display_name": "Python 3.8.10 64-bit",
   "language": "python",
   "name": "python3"
  },
  "language_info": {
   "codemirror_mode": {
    "name": "ipython",
    "version": 3
   },
   "file_extension": ".py",
   "mimetype": "text/x-python",
   "name": "python",
   "nbconvert_exporter": "python",
   "pygments_lexer": "ipython3",
   "version": "3.8.10"
  },
  "orig_nbformat": 4
 },
 "nbformat": 4,
 "nbformat_minor": 2
}
